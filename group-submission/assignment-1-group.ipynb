{
 "cells": [
  {
   "cell_type": "code",
   "execution_count": 1,
   "metadata": {},
   "outputs": [],
   "source": [
    "import numpy as np\n",
    "import pandas as pd\n",
    "import matplotlib.pyplot as plt\n",
    "import seaborn as sns"
   ]
  },
  {
   "cell_type": "markdown",
   "metadata": {},
   "source": [
    "### numpy part"
   ]
  },
  {
   "cell_type": "code",
   "execution_count": 2,
   "metadata": {},
   "outputs": [],
   "source": [
    "# Ex 1\n",
    "def inner_product(x, y):\n",
    "    \"\"\"\n",
    "    x and y are array-like\n",
    "    \"\"\"\n",
    "    assert len(x) == len(y), 'Hey, the two vectors live in different dimensions!'\n",
    "    return np.dot(np.array(x), np.array(y))\n",
    "\n",
    "# Ex 2\n",
    "def MAE(x, y):\n",
    "    \"\"\"\n",
    "    x and y are array-like\n",
    "    \"\"\"\n",
    "    assert len(x) == len(y), 'Hey, the two vectors live in different dimensions!'\n",
    "    return np.absolute(np.array(y) - np.array(x)).sum() / len(x)\n",
    "\n",
    "# Ex 3\n",
    "def lead(x, n):\n",
    "    \"\"\"\n",
    "    x is a list, n is a positive integer\n",
    "    \"\"\"\n",
    "    return x[n:] + [np.nan]*n\n",
    "\n",
    "def lag(x, n):\n",
    "    \"\"\"\n",
    "    x is a list, n is a positive integer\n",
    "    \"\"\"\n",
    "    return [np.nan]*n + x[:-n]\n",
    "\n",
    "# Ex 4\n",
    "def distance(X, y):\n",
    "    \"\"\"\n",
    "    Input: X is an numpy array with shape (n,d), y is a vector in R^d. \n",
    "    Output: numpy array of length n\n",
    "    \"\"\"\n",
    "    return np.linalg.norm(X-y, axis=1)"
   ]
  },
  {
   "cell_type": "code",
   "execution_count": 8,
   "metadata": {},
   "outputs": [],
   "source": [
    "####### test #########\n",
    "\n",
    "# x = np.random.rand(10)\n",
    "# y = np.random.rand(10)\n",
    "# res = 0\n",
    "# for x_i, y_i in zip(x, y):\n",
    "#     res += x_i * y_i\n",
    "# assert np.allclose(inner_product(x, y), res)\n",
    "\n",
    "# x = np.random.rand(10)\n",
    "# y = np.random.rand(10)\n",
    "# res = 0\n",
    "# for x_i, y_i in zip(x, y):\n",
    "#     res += abs(x_i - y_i)\n",
    "# res /= x.shape[0]\n",
    "# assert np.allclose(MAE(x, y), res)\n",
    "\n",
    "# assert lead([1, 2, 3, 4, 5], 2) == [3, 4, 5, np.nan, np.nan]\n",
    "# assert lag([1, 2, 3, 4, 5], 2) == [np.nan, np.nan, 1, 2, 3]\n",
    "\n",
    "# X = np.random.rand(10, 5)\n",
    "# y = np.random.rand(5)\n",
    "# assert np.allclose(distance(X, y), np.sqrt(((X - y) ** 2).sum(axis = 1)))"
   ]
  },
  {
   "cell_type": "markdown",
   "metadata": {},
   "source": [
    "### pandas part"
   ]
  },
  {
   "cell_type": "markdown",
   "metadata": {},
   "source": [
    "####  Ex 1"
   ]
  },
  {
   "cell_type": "code",
   "execution_count": 3,
   "metadata": {},
   "outputs": [],
   "source": [
    "# your_path_weather = '/Users/francis/Desktop/DSBA/Statistics and Probability/ProbabilityAndStatistics/Assignment_1/data/nycflights13/'\n",
    "your_path_weather = ''\n",
    "df = pd.read_csv(your_path_weather + 'nycflights13_weather.csv', skiprows=42)\n",
    "# convert temperature to Celsius\n",
    "df['temp'] = (df['temp'] - 32) * 5 / 9\n",
    "# JFK airport data\n",
    "jfk = df[df.origin == 'JFK'].reset_index(drop=True)"
   ]
  },
  {
   "cell_type": "code",
   "execution_count": 4,
   "metadata": {},
   "outputs": [],
   "source": [
    "# get the time columns\n",
    "time_index = pd.to_datetime(jfk[['year', 'month', 'day', 'hour']])\n",
    "# get the temperature time series\n",
    "temp_data = pd.Series(jfk.temp.values, index=time_index.values)"
   ]
  },
  {
   "cell_type": "code",
   "execution_count": 5,
   "metadata": {},
   "outputs": [],
   "source": [
    "# resample the data hourly\n",
    "temp_data = temp_data.resample('H').first()\n",
    "# linear interpolate missing data\n",
    "temp_data.interpolate(mehtod='linear')\n",
    "# aggregate to daily mean temperature\n",
    "daily_data = temp_data.resample('D').mean()"
   ]
  },
  {
   "cell_type": "code",
   "execution_count": 6,
   "metadata": {},
   "outputs": [
    {
     "data": {
      "image/png": "[encoded data removed]",
      "text/plain": [
       "<matplotlib.figure.Figure at 0x110053518>"
      ]
     },
     "metadata": {},
     "output_type": "display_data"
    }
   ],
   "source": [
    "# plot the data\n",
    "daily_data.plot()\n",
    "plt.title('Daily Mean Temperature')\n",
    "plt.show()"
   ]
  },
  {
   "cell_type": "code",
   "execution_count": 7,
   "metadata": {},
   "outputs": [
    {
     "data": {
      "text/plain": [
       "196"
      ]
     },
     "execution_count": 7,
     "metadata": {},
     "output_type": "execute_result"
    }
   ],
   "source": [
    "# there are 196 days whose mean temperature is greater than in the prceding day\n",
    "days = daily_data[daily_data.diff() > 0].index.values\n",
    "len(days)"
   ]
  },
  {
   "cell_type": "code",
   "execution_count": 8,
   "metadata": {},
   "outputs": [
    {
     "data": {
      "text/plain": [
       "2013-07-17    30.579167\n",
       "2013-07-16    30.483333\n",
       "2013-07-20    30.245833\n",
       "2013-07-18    30.241667\n",
       "2013-07-19    30.187500\n",
       "dtype: float64"
      ]
     },
     "execution_count": 8,
     "metadata": {},
     "output_type": "execute_result"
    }
   ],
   "source": [
    "# 5 hottest days\n",
    "daily_data.sort_values(ascending=False)[:5]"
   ]
  },
  {
   "cell_type": "markdown",
   "metadata": {},
   "source": [
    "#### Ex 2"
   ]
  },
  {
   "cell_type": "code",
   "execution_count": 9,
   "metadata": {},
   "outputs": [],
   "source": [
    "# your_path_flights = '/Users/francis/Desktop/DSBA/Statistics and Probability/ProbabilityAndStatistics/Assignment_1/data/nycflights13/'\n",
    "your_path_flights = ''\n",
    "flights = pd.read_csv(your_path_flights + 'nycflights13_flights.csv', skiprows=54)\n",
    "# Select all columns between year and day\n",
    "year_index = flights.columns.get_loc('year')\n",
    "day_index = flights.columns.get_loc('day')\n",
    "between = flights.loc[:, flights.columns[min(year_index, day_index):max(year_index,day_index)+1]]\n",
    "# Select all columns except those that lie between year and day\n",
    "exclude = flights[flights.columns.difference(between.columns.values)]"
   ]
  },
  {
   "cell_type": "markdown",
   "metadata": {},
   "source": [
    "#### Ex 3"
   ]
  },
  {
   "cell_type": "code",
   "execution_count": 10,
   "metadata": {},
   "outputs": [],
   "source": [
    "# your_path_birthdate = '/Users/francis/Desktop/DSBA/Statistics and Probability/ProbabilityAndStatistics/Assignment_1/data/'\n",
    "your_path_birthdate = ''\n",
    "A = pd.read_csv(your_path_birthdate + 'some_birth_dates1.csv')\n",
    "B = pd.read_csv(your_path_birthdate + 'some_birth_dates2.csv')\n",
    "C = pd.read_csv(your_path_birthdate + 'some_birth_dates3.csv')"
   ]
  },
  {
   "cell_type": "code",
   "execution_count": 11,
   "metadata": {},
   "outputs": [],
   "source": [
    "def union(x, y):\n",
    "    return pd.merge(x, y, how='outer')\n",
    "\n",
    "def intersection(x, y):\n",
    "    return pd.merge(x, y, how='inner')\n",
    "\n",
    "def difference(x, y):\n",
    "    return x[~x.Name.isin(y.Name)].dropna()"
   ]
  },
  {
   "cell_type": "code",
   "execution_count": null,
   "metadata": {},
   "outputs": [],
   "source": [
    "# A union B\n",
    "union(A, B)\n",
    "# A union B union C\n",
    "union(union(A, B), C)\n",
    "# A intersect B\n",
    "intersection(A, B)\n",
    "# A intersect C\n",
    "intersection(A, C)\n",
    "# A difference B\n",
    "difference(A, B)"
   ]
  },
  {
   "cell_type": "code",
   "execution_count": null,
   "metadata": {},
   "outputs": [],
   "source": []
  }
 ],
 "metadata": {
  "kernelspec": {
   "display_name": "Python 3",
   "language": "python",
   "name": "python3"
  },
  "language_info": {
   "codemirror_mode": {
    "name": "ipython",
    "version": 3
   },
   "file_extension": ".py",
   "mimetype": "text/x-python",
   "name": "python",
   "nbconvert_exporter": "python",
   "pygments_lexer": "ipython3",
   "version": "3.6.0"
  }
 },
 "nbformat": 4,
 "nbformat_minor": 2
}
