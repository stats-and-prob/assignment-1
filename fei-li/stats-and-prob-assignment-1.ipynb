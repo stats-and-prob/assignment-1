{
 "cells": [
  {
   "cell_type": "code",
   "execution_count": 64,
   "metadata": {},
   "outputs": [],
   "source": [
    "import numpy as np\n",
    "import pandas as pd\n",
    "import matplotlib.pyplot as plt\n",
    "import seaborn as sns"
   ]
  },
  {
   "cell_type": "markdown",
   "metadata": {},
   "source": [
    "### numpy part"
   ]
  },
  {
   "cell_type": "code",
   "execution_count": null,
   "metadata": {},
   "outputs": [],
   "source": [
    "# Ex 1\n",
    "def inner_product(x, y):\n",
    "    \"\"\"\n",
    "    x and y are array-like\n",
    "    \"\"\"\n",
    "    assert len(x) == len(y), 'Hey, the two vectors live in different dimensions!'\n",
    "    return np.dot(np.array(x), np.array(y))\n",
    "\n",
    "# Ex 2\n",
    "def MAE(x, y):\n",
    "    \"\"\"\n",
    "    x and y are array-like\n",
    "    \"\"\"\n",
    "    assert len(x) == len(y), 'Hey, the two vectors live in different dimensions!'\n",
    "    return np.absolute(np.array(y) - np.array(x)).sum() / len(x)\n",
    "\n",
    "# Ex 3\n",
    "def lead(x, n):\n",
    "    \"\"\"\n",
    "    x is a list, n is a positive integer\n",
    "    \"\"\"\n",
    "    return np.r_[x[n:], np.full(n, np.nan)]\n",
    "\n",
    "def lag(x, n):\n",
    "    \"\"\"\n",
    "    x is a list, n is a positive integer\n",
    "    \"\"\"\n",
    "    return np.r_[np.full(n, np.nan), x[:-n]]\n",
    "\n",
    "# Ex 4\n",
    "def distance(X, y):\n",
    "    \"\"\"\n",
    "    Input: X is an numpy array with shape (n,d), y is a vector in R^d. \n",
    "    Output: numpy array of length n\n",
    "    \"\"\"\n",
    "    return np.linalg.norm(X-y, axis=1)"
   ]
  },
  {
   "cell_type": "markdown",
   "metadata": {},
   "source": [
    "### pandas part"
   ]
  },
  {
   "cell_type": "markdown",
   "metadata": {},
   "source": [
    "####  Ex 1"
   ]
  },
  {
   "cell_type": "code",
   "execution_count": 3,
   "metadata": {},
   "outputs": [],
   "source": [
    "# your_path_weather = '/Users/francis/Desktop/DSBA/Statistics and Probability/ProbabilityAndStatistics/Assignment_1/data/nycflights13/'\n",
    "your_path_weather = ''\n",
    "df = pd.read_csv(your_path_weather + 'nycflights13_weather.csv', skiprows=42)\n",
    "# convert temperature to Celsius\n",
    "df['temp'] = (df['temp'] - 32) * 5 / 9\n",
    "# JFK airport data\n",
    "jfk = df[df.origin == 'JFK'].reset_index(drop=True)"
   ]
  },
  {
   "cell_type": "code",
   "execution_count": 43,
   "metadata": {},
   "outputs": [
    {
     "data": {
      "text/plain": [
       "True"
      ]
     },
     "execution_count": 43,
     "metadata": {},
     "output_type": "execute_result"
    }
   ],
   "source": [
    "# there is no missng value\n",
    "all(jfk.temp.notnull())"
   ]
  },
  {
   "cell_type": "code",
   "execution_count": 92,
   "metadata": {},
   "outputs": [],
   "source": [
    "# daily mean temperature data\n",
    "daily_temp = jfk.groupby(['year', 'month', 'day']).mean()['temp']\n",
    "# set time index\n",
    "time_index = pd.to_datetime(daily_temp.index.to_frame(index=False).reindex_axis(['year','month', 'day'], axis=1))\n",
    "# prepare data to be plotted\n",
    "temp_data = pd.Series(daily_temp.values, index=time_index.values)"
   ]
  },
  {
   "cell_type": "code",
   "execution_count": 192,
   "metadata": {},
   "outputs": [
    {
     "data": {
      "image/png": "[encoded data removed]",
      "text/plain": [
       "<matplotlib.figure.Figure at 0x115ce6cf8>"
      ]
     },
     "metadata": {},
     "output_type": "display_data"
    }
   ],
   "source": [
    "# plot the data\n",
    "temp_data.plot()\n",
    "plt.title('Daily Mean Temperature')\n",
    "plt.show()"
   ]
  },
  {
   "cell_type": "code",
   "execution_count": 116,
   "metadata": {},
   "outputs": [
    {
     "data": {
      "text/plain": [
       "196"
      ]
     },
     "execution_count": 116,
     "metadata": {},
     "output_type": "execute_result"
    }
   ],
   "source": [
    "# there are 196 days whose mean temperature is greater than in the prceding day\n",
    "len(temp_data[temp_data.diff() > 0].index.values)"
   ]
  },
  {
   "cell_type": "code",
   "execution_count": 118,
   "metadata": {},
   "outputs": [
    {
     "data": {
      "text/plain": [
       "2013-07-17    30.579167\n",
       "2013-07-16    30.483333\n",
       "2013-07-20    30.245833\n",
       "2013-07-18    30.241667\n",
       "2013-07-19    30.187500\n",
       "dtype: float64"
      ]
     },
     "execution_count": 118,
     "metadata": {},
     "output_type": "execute_result"
    }
   ],
   "source": [
    "# 5 hottest days\n",
    "temp_data.sort_values(ascending=False)[:5]"
   ]
  },
  {
   "cell_type": "markdown",
   "metadata": {},
   "source": [
    "#### Ex 2"
   ]
  },
  {
   "cell_type": "code",
   "execution_count": 119,
   "metadata": {},
   "outputs": [],
   "source": [
    "# your_path_flights = '/Users/francis/Desktop/DSBA/Statistics and Probability/ProbabilityAndStatistics/Assignment_1/data/nycflights13/'\n",
    "your_path_flights = ''\n",
    "flights = pd.read_csv(your_path_flights + 'nycflights13_flights.csv', skiprows=54)\n",
    "# Select all columns between year and day\n",
    "between = flights.loc[:, 'year':'day']\n",
    "# Select all columns except those that lie between year and day\n",
    "exclude = flights[flights.columns.difference(flights.loc[:, 'year':'day'].columns.values)]"
   ]
  },
  {
   "cell_type": "markdown",
   "metadata": {},
   "source": [
    "#### Ex 3"
   ]
  },
  {
   "cell_type": "code",
   "execution_count": 136,
   "metadata": {},
   "outputs": [],
   "source": [
    "# your_path_birthdate = '/Users/francis/Desktop/DSBA/Statistics and Probability/ProbabilityAndStatistics/Assignment_1/data/'\n",
    "your_path_birthdate = ''\n",
    "A = pd.read_csv(your_path_birthdate + 'some_birth_dates1.csv')\n",
    "B = pd.read_csv(your_path_birthdate + 'some_birth_dates2.csv')\n",
    "C = pd.read_csv(your_path_birthdate + 'some_birth_dates3.csv')"
   ]
  },
  {
   "cell_type": "code",
   "execution_count": 190,
   "metadata": {},
   "outputs": [],
   "source": [
    "def union(x, y):\n",
    "    return pd.merge(x, y, how='outer')\n",
    "\n",
    "def intersection(x, y):\n",
    "    return pd.merge(x, y, how='inner')\n",
    "\n",
    "def difference(x, y):\n",
    "    return x[~x.Name.isin(y.Name)].dropna()"
   ]
  },
  {
   "cell_type": "code",
   "execution_count": null,
   "metadata": {},
   "outputs": [],
   "source": [
    "# A union B\n",
    "union(A, B)\n",
    "# A union B union C\n",
    "union(union(A, B), C)\n",
    "# A intersect B\n",
    "intersection(A, B)\n",
    "# A intersect C\n",
    "intersection(A, C)\n",
    "# A difference B\n",
    "difference(A, B)"
   ]
  },
  {
   "cell_type": "code",
   "execution_count": null,
   "metadata": {},
   "outputs": [],
   "source": []
  }
 ],
 "metadata": {
  "kernelspec": {
   "display_name": "Python 3",
   "language": "python",
   "name": "python3"
  },
  "language_info": {
   "codemirror_mode": {
    "name": "ipython",
    "version": 3
   },
   "file_extension": ".py",
   "mimetype": "text/x-python",
   "name": "python",
   "nbconvert_exporter": "python",
   "pygments_lexer": "ipython3",
   "version": "3.6.0"
  }
 },
 "nbformat": 4,
 "nbformat_minor": 2
}
